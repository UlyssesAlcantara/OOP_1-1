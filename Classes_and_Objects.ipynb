{
  "nbformat": 4,
  "nbformat_minor": 0,
  "metadata": {
    "colab": {
      "name": "Classes and Objects.ipynb",
      "provenance": [],
      "collapsed_sections": [],
      "authorship_tag": "ABX9TyOlywBdFWynesaEnRJ9q2gR",
      "include_colab_link": true
    },
    "kernelspec": {
      "name": "python3",
      "display_name": "Python 3"
    },
    "language_info": {
      "name": "python"
    }
  },
  "cells": [
    {
      "cell_type": "markdown",
      "metadata": {
        "id": "view-in-github",
        "colab_type": "text"
      },
      "source": [
        "<a href=\"https://colab.research.google.com/github/UlyssesAlcantara/OOP_1-1/blob/main/Classes_and_Objects.ipynb\" target=\"_parent\"><img src=\"https://colab.research.google.com/assets/colab-badge.svg\" alt=\"Open In Colab\"/></a>"
      ]
    },
    {
      "cell_type": "markdown",
      "source": [
        "Application 2- Write a phyton program that displays  the fullname of a student, student number, age, course and school. Creat a class name OOP_1-1 and creat info() method to display the information of a student with fullname,student_no, age, course, school as attributes."
      ],
      "metadata": {
        "id": "ta0U8kzD1rZ0"
      }
    },
    {
      "cell_type": "code",
      "source": [
        "class OOP_1_1:\n",
        "  def __init__(self,fullname,student_no,age,course,school):\n",
        "   self.fullname = fullname\n",
        "   self.student_no = student_no\n",
        "   self.age = age\n",
        "   self.course = course\n",
        "   self.school = school\n",
        "\n",
        "  def info(self):\n",
        "   print(self.fullname,self.student_no,self.age,self.course,self.school)\n",
        "   #print(\"My Name is\",self.fullname)\n",
        "   #print(\"My Student Number is\",self.student_no)\n",
        "   #print(\"My Age is\",self.age)\n",
        "   #print(\"My Course is\",self.course)\n",
        "   #print(\"My School is\",self.school)\n",
        "\n",
        "student = OOP_1_1(\"Ulysses S. Alcantara\",202102226,18,\"BSCpE 1-1\",\"CvSU\")\n",
        "student.info()\n",
        "   \n",
        "   \n",
        "   \n",
        "\n",
        "  \n",
        "\n",
        "\n",
        "\n"
      ],
      "metadata": {
        "colab": {
          "base_uri": "https://localhost:8080/"
        },
        "id": "3CMK2tbE3Ev-",
        "outputId": "64169ed7-8078-4727-bcdf-5f8f092cbeb2"
      },
      "execution_count": null,
      "outputs": [
        {
          "output_type": "stream",
          "name": "stdout",
          "text": [
            "Ulysses S. Alcantara 202102226 18 BSCpE 1-1 CvSU\n"
          ]
        }
      ]
    },
    {
      "cell_type": "markdown",
      "source": [
        "\n",
        "\n",
        "\n",
        "\n"
      ],
      "metadata": {
        "id": "bYWOEo1C9CzS"
      }
    },
    {
      "cell_type": "code",
      "source": [
        ""
      ],
      "metadata": {
        "id": "Tc_fZOIv9K0-"
      },
      "execution_count": null,
      "outputs": []
    }
  ]
}